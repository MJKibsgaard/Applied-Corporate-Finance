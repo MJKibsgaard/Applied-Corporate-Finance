{
 "cells": [
  {
   "cell_type": "markdown",
   "metadata": {},
   "source": [
    "In this first part, we install import all the packages used"
   ]
  },
  {
   "cell_type": "code",
   "execution_count": 1,
   "metadata": {},
   "outputs": [],
   "source": [
    "#Packages\n",
    "import numpy as np\n",
    "import pandas as pd\n",
    "import matplotlib.pyplot as plt\n",
    "import seaborn as sns\n",
    "\n",
    "\n",
    "#Subpackages\n",
    "from tqdm import tqdm\n",
    "from sklearn.ensemble import RandomForestRegressor\n",
    "from sklearn.metrics import mean_squared_error\n",
    "from sklearn.model_selection import GridSearchCV\n",
    "from sklearn.model_selection import RandomizedSearchCV\n",
    "from sklearn.model_selection import train_test_split\n",
    "from sklearn.ensemble import RandomForestClassifier\n",
    "from sklearn.metrics import accuracy_score, classification_report\n",
    "from sklearn.metrics import confusion_matrix\n",
    "\n",
    "\n",
    "\n",
    "#ImportFunctions\n",
    "from Functions import fetch_data\n",
    "from Functions import moving_average\n",
    "from Functions import rsi\n",
    "from Functions import macd\n",
    "from Functions import lagged_return\n",
    "from Functions import bollinger_bands\n",
    "from Functions import pe_ratio\n",
    "from Functions import daily_returns\n",
    "\n"
   ]
  },
  {
   "cell_type": "code",
   "execution_count": 2,
   "metadata": {},
   "outputs": [
    {
     "name": "stdout",
     "output_type": "stream",
     "text": [
      "No GPU found. Using CPU.\n",
      "TensorFlow Version: 2.14.0\n"
     ]
    }
   ],
   "source": [
    "# TensorFlow and Keras\n",
    "import tensorflow as tf\n",
    "from tensorflow import keras\n",
    "from tensorflow.keras import layers, models, optimizers\n",
    "from tensorflow.keras.callbacks import EarlyStopping\n",
    "\n",
    "# Evaluation and Metrics\n",
    "from sklearn.model_selection import train_test_split\n",
    "from sklearn.preprocessing import StandardScaler, LabelEncoder\n",
    "from sklearn.metrics import classification_report, confusion_matrix, mean_squared_error\n",
    "\n",
    "# Ensure that TensorFlow is using GPU (if available)\n",
    "physical_devices = tf.config.list_physical_devices('GPU')\n",
    "if physical_devices:\n",
    "    tf.config.experimental.set_memory_growth(physical_devices[0], True)\n",
    "else:\n",
    "    print(\"No GPU found. Using CPU.\")\n",
    "\n",
    "# Check TensorFlow version for reference\n",
    "print(\"TensorFlow Version:\", tf.__version__)"
   ]
  },
  {
   "cell_type": "markdown",
   "metadata": {},
   "source": [
    "Next, we import some stock data"
   ]
  },
  {
   "cell_type": "code",
   "execution_count": 3,
   "metadata": {},
   "outputs": [],
   "source": [
    "tickers = [\"AAPL\", \"META\"]\n",
    "start_date = \"2015-01-01\"\n",
    "end_date = \"2023-01-01\"\n",
    "\n",
    "stock_data = fetch_data(tickers, start_date, end_date)"
   ]
  },
  {
   "cell_type": "markdown",
   "metadata": {},
   "source": [
    "Now we calculate the technical indicators for each stock"
   ]
  },
  {
   "cell_type": "code",
   "execution_count": 4,
   "metadata": {},
   "outputs": [],
   "source": [
    "# For each stock's data, compute the technical indicators and add them as new columns to the DataFrame\n",
    "\n",
    "for ticker, data in stock_data.items():\n",
    "    # Backup the 'Close' prices\n",
    "    close_prices = data['Close'].copy()\n",
    "    \n",
    "    # 20-day Moving Average\n",
    "    data['MA20'] = moving_average(data)\n",
    "    \n",
    "    # RSI\n",
    "    data['RSI'] = rsi(data)\n",
    "    \n",
    "    # MACD\n",
    "    data['MACD'], data['Signal_Line'] = macd(data)\n",
    "    \n",
    "    # 1, 2, and 3 Day Lagged Returns\n",
    "    data['Lagged_Return_1'] = lagged_return(data, 2)\n",
    "    data['Lagged_Return_2'] = lagged_return(data, 3)\n",
    "    data['Lagged_Return_3'] = lagged_return(data, 4)\n",
    "    \n",
    "    # Bollinger Bands\n",
    "    data['Upper_Bollinger'], data['Lower_Bollinger'] = bollinger_bands(data)\n",
    "    \n",
    "    # Restore 'Close' column\n",
    "    data['Close'] = close_prices\n",
    "\n",
    "    # Extract the 'Close' column\n",
    "    close_prices = data['Close']\n",
    "    \n",
    "    # Calculate daily returns for all available days\n",
    "    daily_returns = close_prices.pct_change().dropna()\n",
    "\n",
    "    \n",
    "\n"
   ]
  },
  {
   "cell_type": "markdown",
   "metadata": {},
   "source": [
    "Now that we have all the technical indicators for each stock we make a new dataframe that contains the data for all the stocks. We also do some data cleaning like removing the NANs. "
   ]
  },
  {
   "cell_type": "code",
   "execution_count": 5,
   "metadata": {},
   "outputs": [],
   "source": [
    "# Dictionary to store the split data for each stock\n",
    "all_stock_data = {}\n",
    "\n",
    "for ticker, data in stock_data.items():\n",
    "    data_clean = data.dropna()  # drop rows with NaN values\n",
    "\n",
    "    # Features: using technical indicators and lagged returns\n",
    "    X = data_clean[['RSI', 'MACD', 'Signal_Line', 'Lagged_Return_1', 'Lagged_Return_2', 'Lagged_Return_3', 'Upper_Bollinger', 'Lower_Bollinger']]\n",
    "\n",
    "    # Target: Direction of the next day's return (1 for positive, 0 for negative or non-positive)\n",
    "    y = (data_clean['Close'].pct_change().shift(-1) > 0).astype(int)\n",
    "\n",
    "    # Splitting the data: 70% train, 15% validation, 15% test\n",
    "    X_train, X_temp, y_train, y_temp = train_test_split(X, y, test_size=0.3, random_state=42, shuffle=False)\n",
    "    X_val, X_test, y_val, y_test = train_test_split(X_temp, y_temp, test_size=0.5, random_state=42, shuffle=False)\n",
    "\n",
    "    # Store the index right after splitting\n",
    "    X_test_index = X_test.index\n",
    "\n",
    "    \n",
    "    # Store the data splits in the dictionary\n",
    "    all_stock_data[ticker] = {\n",
    "        'X_train': X_train,\n",
    "        'X_val': X_val,\n",
    "        'X_test': X_test,\n",
    "        'y_train': y_train,\n",
    "        'y_val': y_val,\n",
    "        'y_test': y_test\n",
    "    }\n",
    "\n",
    "# Now, `all_stock_data` contains the data splits for all stocks."
   ]
  },
  {
   "cell_type": "markdown",
   "metadata": {},
   "source": [
    "Now, we normalize the data to pe ready for Neural network"
   ]
  },
  {
   "cell_type": "code",
   "execution_count": 6,
   "metadata": {},
   "outputs": [],
   "source": [
    "from sklearn.preprocessing import StandardScaler\n",
    "\n",
    "# Iterate over each stock's data\n",
    "for ticker, data_splits in all_stock_data.items():\n",
    "    scaler = StandardScaler()\n",
    "\n",
    "    # Fit the scaler only on the training data\n",
    "    data_splits['X_train'] = scaler.fit_transform(data_splits['X_train'])\n",
    "    \n",
    "    # Transform the validation and test data using the scaler\n",
    "    data_splits['X_val'] = scaler.transform(data_splits['X_val'])\n",
    "    data_splits['X_test'] = scaler.transform(data_splits['X_test'])\n",
    "\n",
    "    # Update the dictionary with normalized data\n",
    "    all_stock_data[ticker] = data_splits\n"
   ]
  },
  {
   "cell_type": "markdown",
   "metadata": {},
   "source": [
    "Now we actually make the classifier to predict the stock direction. We use a random forest model to determine this."
   ]
  },
  {
   "cell_type": "code",
   "execution_count": 7,
   "metadata": {},
   "outputs": [
    {
     "name": "stdout",
     "output_type": "stream",
     "text": [
      "10/10 [==============================] - 0s 4ms/step\n",
      "Performance for AAPL:\n",
      "Accuracy: 0.5151\n",
      "              precision    recall  f1-score   support\n",
      "\n",
      "           0       0.49      0.43      0.46       142\n",
      "           1       0.53      0.59      0.56       157\n",
      "\n",
      "    accuracy                           0.52       299\n",
      "   macro avg       0.51      0.51      0.51       299\n",
      "weighted avg       0.51      0.52      0.51       299\n",
      "\n",
      "-------------------------------------------------\n",
      "10/10 [==============================] - 0s 2ms/step\n",
      "Performance for META:\n",
      "Accuracy: 0.5318\n",
      "              precision    recall  f1-score   support\n",
      "\n",
      "           0       0.53      0.47      0.50       147\n",
      "           1       0.54      0.59      0.56       152\n",
      "\n",
      "    accuracy                           0.53       299\n",
      "   macro avg       0.53      0.53      0.53       299\n",
      "weighted avg       0.53      0.53      0.53       299\n",
      "\n",
      "-------------------------------------------------\n",
      "Average Validation Accuracy across all stocks: 0.5234\n"
     ]
    }
   ],
   "source": [
    "# Required TensorFlow imports\n",
    "from tensorflow.keras.models import Sequential\n",
    "from tensorflow.keras.layers import Dense, Dropout\n",
    "from tensorflow.keras.optimizers import Adam\n",
    "\n",
    "# Dictionary to store the trained models and their performances\n",
    "models = {}\n",
    "performances = {}\n",
    "\n",
    "# List to store all validation accuracy scores\n",
    "all_validation_accuracies = []\n",
    "\n",
    "for ticker in all_stock_data:\n",
    "    # Get data for the current stock\n",
    "    X_train = all_stock_data[ticker]['X_train']\n",
    "    y_train = all_stock_data[ticker]['y_train']\n",
    "    X_val = all_stock_data[ticker]['X_val']\n",
    "    y_val = all_stock_data[ticker]['y_val']\n",
    "\n",
    "    # Define the neural network model\n",
    "    model = Sequential([\n",
    "        Dense(128, activation='relu', input_shape=(X_train.shape[1],)),\n",
    "        Dropout(0.5),\n",
    "        Dense(64, activation='relu'),\n",
    "        Dropout(0.5),\n",
    "        Dense(1, activation='sigmoid')\n",
    "    ])\n",
    "\n",
    "    # Compile the model\n",
    "    model.compile(optimizer=Adam(learning_rate=0.001), loss='binary_crossentropy', metrics=['accuracy'])\n",
    "\n",
    "    # Train the model\n",
    "    model.fit(X_train, y_train, epochs=50, batch_size=32, verbose=0, validation_data=(X_val, y_val))\n",
    "\n",
    "    # Validate the model\n",
    "    _, accuracy = model.evaluate(X_val, y_val, verbose=0)\n",
    "    \n",
    "    # Predict the validation data\n",
    "    y_val_pred = (model.predict(X_val) > 0.5).astype(int).flatten()\n",
    "    \n",
    "    # Add the accuracy to the list\n",
    "    all_validation_accuracies.append(accuracy)\n",
    "\n",
    "    # Store the trained model and its performance\n",
    "    models[ticker] = model\n",
    "    performances[ticker] = {\n",
    "        'Accuracy': accuracy,\n",
    "        'Classification Report': classification_report(y_val, y_val_pred)\n",
    "    }\n",
    "\n",
    "    # Print out the performance for the current stock\n",
    "    print(f\"Performance for {ticker}:\")\n",
    "    print(f\"Accuracy: {accuracy:.4f}\")\n",
    "    print(classification_report(y_val, y_val_pred))\n",
    "    print(\"-------------------------------------------------\")\n",
    "\n",
    "# Calculate and print the average validation accuracy\n",
    "average_validation_accuracy = sum(all_validation_accuracies) / len(all_validation_accuracies)\n",
    "print(f\"Average Validation Accuracy across all stocks: {average_validation_accuracy:.4f}\")\n"
   ]
  },
  {
   "cell_type": "markdown",
   "metadata": {},
   "source": [
    "After we have trained the model on the validation set, we will now test on an out of sample test. In other words, we test on new data."
   ]
  },
  {
   "cell_type": "code",
   "execution_count": 8,
   "metadata": {},
   "outputs": [
    {
     "name": "stdout",
     "output_type": "stream",
     "text": [
      "10/10 [==============================] - 0s 2ms/step\n",
      "Test Performance for AAPL:\n",
      "Test Accuracy: 0.4867\n",
      "              precision    recall  f1-score   support\n",
      "\n",
      "           0       0.50      0.63      0.56       155\n",
      "           1       0.46      0.34      0.39       145\n",
      "\n",
      "    accuracy                           0.49       300\n",
      "   macro avg       0.48      0.48      0.47       300\n",
      "weighted avg       0.48      0.49      0.48       300\n",
      "\n",
      "-------------------------------------------------\n",
      "10/10 [==============================] - 0s 2ms/step\n",
      "Test Performance for META:\n",
      "Test Accuracy: 0.5100\n",
      "              precision    recall  f1-score   support\n",
      "\n",
      "           0       0.53      0.50      0.52       157\n",
      "           1       0.49      0.52      0.50       143\n",
      "\n",
      "    accuracy                           0.51       300\n",
      "   macro avg       0.51      0.51      0.51       300\n",
      "weighted avg       0.51      0.51      0.51       300\n",
      "\n",
      "-------------------------------------------------\n",
      "Average Test Accuracy across all stocks: 0.4983\n"
     ]
    }
   ],
   "source": [
    "# Dictionary to store test set performances\n",
    "test_performances = {}\n",
    "\n",
    "# List to store all accuracy scores\n",
    "all_accuracies = []\n",
    "\n",
    "for ticker in all_stock_data:\n",
    "    # Get the test data for the current stock\n",
    "    X_test = all_stock_data[ticker]['X_test']\n",
    "    y_test = all_stock_data[ticker]['y_test']\n",
    "\n",
    "    # Predict using the trained model\n",
    "    y_test_pred_probs = models[ticker].predict(X_test)\n",
    "    y_test_pred = (y_test_pred_probs > 0.5).astype(int).flatten()  # Convert probabilities to class labels\n",
    "    test_accuracy = accuracy_score(y_test, y_test_pred)\n",
    "\n",
    "    # Store the performance on the test set\n",
    "    test_performances[ticker] = {\n",
    "        'Test Accuracy': test_accuracy,\n",
    "        'Test Classification Report': classification_report(y_test, y_test_pred)\n",
    "    }\n",
    "\n",
    "    # Add the accuracy to the list\n",
    "    all_accuracies.append(test_accuracy)\n",
    "\n",
    "    # Print out the test performance for the current stock\n",
    "    print(f\"Test Performance for {ticker}:\")\n",
    "    print(f\"Test Accuracy: {test_accuracy:.4f}\")\n",
    "    print(classification_report(y_test, y_test_pred))\n",
    "    print(\"-------------------------------------------------\")\n",
    "\n",
    "# Calculate and print the average accuracy\n",
    "average_accuracy = sum(all_accuracies) / len(all_accuracies)\n",
    "print(f\"Average Test Accuracy across all stocks: {average_accuracy:.4f}\")\n"
   ]
  },
  {
   "cell_type": "markdown",
   "metadata": {},
   "source": [
    "Now we start backtesting the models. We make a list that includes the predicted return and the actual return."
   ]
  },
  {
   "cell_type": "code",
   "execution_count": 9,
   "metadata": {},
   "outputs": [
    {
     "name": "stdout",
     "output_type": "stream",
     "text": [
      "10/10 [==============================] - 0s 2ms/step\n",
      "10/10 [==============================] - 0s 2ms/step\n"
     ]
    }
   ],
   "source": [
    "ReturnsAndPredictionStocks = {}\n",
    "ReturnsAndPredictionsValueNN = []\n",
    "Daily_return_Value = []\n",
    "Date = []\n",
    "\n",
    "for ticker, stock_data in all_stock_data.items():\n",
    "    \n",
    "    # Get the test data for the current stock\n",
    "    X_test = stock_data['X_test']\n",
    "    y_test = stock_data['y_test']\n",
    "    Returndata = data['Close']\n",
    "\n",
    "    # Calculate the daily returns\n",
    "    daily_returns = Returndata.pct_change()\n",
    "    \n",
    "    # Drop the first NaN value (since there is no return for the first day)\n",
    "    daily_returns = daily_returns.dropna()\n",
    "\n",
    "    # Predict using the neural network model\n",
    "    y_test_pred_nn = (models[ticker].predict(X_test) > 0.5).astype(int).flatten() \n",
    "\n",
    "    # Add the daily returns to a list\n",
    "    Daily_return_Value.append(daily_returns.tolist())\n",
    "    \n",
    "    # Add the results to a list and adding date\n",
    "    ReturnsAndPredictionsValueNN.append(y_test_pred_nn)\n",
    "\n",
    "    # Store the prediction and test for the model\n",
    "    ReturnsAndPredictionStocks[ticker] = {\n",
    "        'daily return': daily_returns,\n",
    "        'prediction for neural network': y_test_pred_nn\n",
    "    }\n"
   ]
  },
  {
   "cell_type": "code",
   "execution_count": 10,
   "metadata": {},
   "outputs": [
    {
     "name": "stdout",
     "output_type": "stream",
     "text": [
      "10/10 [==============================] - 0s 3ms/step\n",
      "Data for AAPL:\n",
      "          Date  daily return Neural Network\n",
      "0   2021-10-22     -0.050515              0\n",
      "1   2021-10-25      0.012569              0\n",
      "2   2021-10-26     -0.039186              0\n",
      "3   2021-10-27     -0.011368              0\n",
      "4   2021-10-28      0.015054              0\n",
      "..         ...           ...            ...\n",
      "295 2022-12-23      0.007855              0\n",
      "296 2022-12-27     -0.009827              0\n",
      "297 2022-12-28     -0.010780              0\n",
      "298 2022-12-29      0.040131              0\n",
      "299 2022-12-30      0.000665              0\n",
      "\n",
      "[300 rows x 3 columns]\n",
      "10/10 [==============================] - 0s 2ms/step\n",
      "Data for META:\n",
      "          Date  daily return Neural Network\n",
      "0   2021-10-22     -0.050515              0\n",
      "1   2021-10-25      0.012569              0\n",
      "2   2021-10-26     -0.039186              0\n",
      "3   2021-10-27     -0.011368              0\n",
      "4   2021-10-28      0.015054              0\n",
      "..         ...           ...            ...\n",
      "295 2022-12-23      0.007855              1\n",
      "296 2022-12-27     -0.009827              1\n",
      "297 2022-12-28     -0.010780              1\n",
      "298 2022-12-29      0.040131              1\n",
      "299 2022-12-30      0.000665              0\n",
      "\n",
      "[300 rows x 3 columns]\n"
     ]
    }
   ],
   "source": [
    "for ticker, stock_data in all_stock_data.items():\n",
    "    \n",
    "    # Create an empty DataFrame for each stock\n",
    "    df = pd.DataFrame(columns=['Date', 'daily return', 'Neural Network'])\n",
    "\n",
    "    # Get the test data for the current stock\n",
    "    X_test = stock_data['X_test']\n",
    "    y_test = stock_data['y_test']\n",
    "    Returndata = data['Close']\n",
    "\n",
    "    # Calculate the daily returns for the current stock\n",
    "    daily_returns = Returndata.pct_change()\n",
    "    \n",
    "    # Align daily_returns with X_test and y_test\n",
    "    daily_returns = daily_returns.loc[X_test_index]\n",
    "\n",
    "\n",
    "    # Predict using the neural network model\n",
    "    y_test_pred_nn = (models[ticker].predict(X_test) > 0.5).astype(int).flatten()\n",
    "\n",
    "    # Create a DataFrame for the current stock\n",
    "    ResultsReturnAndPrediction = pd.DataFrame({\n",
    "        'Date': X_test_index,\n",
    "        'daily return': daily_returns.tolist(),\n",
    "        'Neural Network': y_test_pred_nn.tolist()\n",
    "    })\n",
    "\n",
    "    # Append the stock DataFrame to the main DataFrame\n",
    "    df = pd.concat([df, ResultsReturnAndPrediction], ignore_index=True)\n",
    "\n",
    "    # Drop rows with NaN values in any column\n",
    "    df = df.dropna()\n",
    "\n",
    "    # Print the resulting DataFrame for each stock\n",
    "    print(f\"Data for {ticker}:\")\n",
    "    print(df)"
   ]
  },
  {
   "cell_type": "markdown",
   "metadata": {},
   "source": [
    "We perform the backtest and plot the results"
   ]
  },
  {
   "cell_type": "code",
   "execution_count": 11,
   "metadata": {},
   "outputs": [
    {
     "name": "stdout",
     "output_type": "stream",
     "text": [
      "10/10 [==============================] - 0s 2ms/step\n",
      "10/10 [==============================] - 0s 2ms/step\n"
     ]
    },
    {
     "data": {
      "image/png": "[encoded data removed]",
      "text/plain": [
       "<Figure size 640x480 with 1 Axes>"
      ]
     },
     "metadata": {},
     "output_type": "display_data"
    }
   ],
   "source": [
    "# DataFrames to store cumulative returns time series for all stocks\n",
    "df_cumulative_returns_nn = pd.DataFrame(index=X_test_index)  # Using X_test_index\n",
    "df_daily_returns_all_stocks = pd.DataFrame(index=X_test_index)  # DataFrame to store daily returns for all stocks\n",
    "\n",
    "for ticker, stock_data in all_stock_data.items():\n",
    "    \n",
    "    # Extract the test data and the returns data\n",
    "    X_test = stock_data['X_test']\n",
    "    y_test = stock_data['y_test']\n",
    "    Returndata = data['Close']\n",
    "    daily_returns = Returndata.pct_change().loc[X_test_index]  # Using X_test_index\n",
    "    df_daily_returns_all_stocks[ticker] = daily_returns  # Store daily returns for each stock\n",
    "\n",
    "    # Predict using the neural network model\n",
    "    y_test_pred_nn = (models[ticker].predict(X_test) > 0.5).astype(int).flatten()\n",
    "    \n",
    "    #\n",
    "    y_test_pred_nn_series = pd.Series(y_test_pred_nn, index=X_test_index)\n",
    "    y_test_pred_nn_shifted = y_test_pred_nn_series.shift(1).fillna(0)\n",
    "\n",
    "    \n",
    "    # Calculate strategy daily returns based on the shifted predictions\n",
    "    strategy_returns_nn = daily_returns * (2 * y_test_pred_nn_shifted - 1)\n",
    "\n",
    "    # Set the first value of strategy returns to 0 to ensure cumulative product starts at 1\n",
    "    strategy_returns_nn.iloc[0] = 0\n",
    "\n",
    "    # Calculate cumulative returns time series\n",
    "    df_cumulative_returns_nn[ticker] = (1 + strategy_returns_nn).cumprod()\n",
    "\n",
    "# Calculate average daily returns across all stocks\n",
    "average_daily_returns = df_daily_returns_all_stocks.mean(axis=1)\n",
    "\n",
    "# Calculate cumulative returns for holding strategy\n",
    "cumulative_returns_holding = (1 + average_daily_returns).cumprod()\n",
    "\n",
    "# Calculate average cumulative returns for each date\n",
    "avg_cumulative_returns_nn = df_cumulative_returns_nn.mean(axis=1)\n",
    "\n",
    "# Plotting the results\n",
    "plt.plot(avg_cumulative_returns_nn, label='Neural Network', color='blue')\n",
    "plt.plot(cumulative_returns_holding, label='Holding Strategy', color='red')  # Add this line\n",
    "plt.xlabel('Date')\n",
    "plt.ylabel('Average Cumulative Return')\n",
    "plt.title('Average Cumulative Return by Model Over Time')\n",
    "plt.legend()\n",
    "plt.grid(True)\n",
    "plt.show()\n"
   ]
  },
  {
   "cell_type": "markdown",
   "metadata": {},
   "source": [
    "Now we calculate the sharpe ratios from the strategies"
   ]
  },
  {
   "cell_type": "code",
   "execution_count": 12,
   "metadata": {},
   "outputs": [
    {
     "name": "stdout",
     "output_type": "stream",
     "text": [
      "Sharpe Ratio (Neural Network): 0.0038\n",
      "Sharpe Ratio (Holding Strategy): -0.0716\n"
     ]
    }
   ],
   "source": [
    "# Calculate daily returns for the neural network strategy\n",
    "daily_returns_nn = df_cumulative_returns_nn.pct_change().mean(axis=1)\n",
    "\n",
    "# 1. Calculate the mean daily return for each strategy\n",
    "mean_return_nn = daily_returns_nn.mean()\n",
    "mean_return_holding = average_daily_returns.mean()\n",
    "\n",
    "# 2. Calculate the standard deviation of daily returns for each strategy\n",
    "std_dev_nn = daily_returns_nn.std()\n",
    "std_dev_holding = average_daily_returns.std()\n",
    "\n",
    "# 3. Compute the Sharpe ratio for each strategy (assuming risk-free rate is 0)\n",
    "sharpe_ratio_nn = mean_return_nn / std_dev_nn\n",
    "sharpe_ratio_holding = mean_return_holding / std_dev_holding\n",
    "\n",
    "print(f\"Sharpe Ratio (Neural Network): {sharpe_ratio_nn:.4f}\")\n",
    "print(f\"Sharpe Ratio (Holding Strategy): {sharpe_ratio_holding:.4f}\")\n"
   ]
  },
  {
   "cell_type": "markdown",
   "metadata": {},
   "source": [
    "In the plot above we have the most important features of the simple nontuned model."
   ]
  },
  {
   "cell_type": "code",
   "execution_count": 13,
   "metadata": {},
   "outputs": [
    {
     "name": "stdout",
     "output_type": "stream",
     "text": [
      "10/10 [==============================] - 0s 3ms/step\n"
     ]
    },
    {
     "name": "stdout",
     "output_type": "stream",
     "text": [
      "10/10 [==============================] - 0s 2ms/step\n"
     ]
    },
    {
     "data": {
      "image/png": "[encoded data removed]",
      "text/plain": [
       "<Figure size 800x600 with 2 Axes>"
      ]
     },
     "metadata": {},
     "output_type": "display_data"
    }
   ],
   "source": [
    "# Initialize a cumulative confusion matrix with zeros\n",
    "cumulative_cm = np.zeros((2, 2))\n",
    "\n",
    "# Loop through each stock ticker in the models dictionary\n",
    "for ticker, model in models.items():\n",
    "    X_test = all_stock_data[ticker]['X_test']\n",
    "    y_test = all_stock_data[ticker]['y_test']\n",
    "    \n",
    "    # Get predictions on the test set\n",
    "    y_test_pred = (model.predict(X_test) > 0.5).astype(int).flatten()  # Threshold the predictions to get class labels\n",
    "    \n",
    "    # Add the confusion matrix for the current stock to the cumulative matrix\n",
    "    cumulative_cm += confusion_matrix(y_test, y_test_pred)\n",
    "\n",
    "# Calculate the average confusion matrix\n",
    "average_cm = cumulative_cm / len(models)\n",
    "\n",
    "# Plot the average confusion matrix using seaborn\n",
    "plt.figure(figsize=(8, 6))\n",
    "sns.heatmap(average_cm, annot=True, fmt=\".2f\", cmap=\"Blues\", xticklabels=['Predicted 0', 'Predicted 1'], yticklabels=['Actual 0', 'Actual 1'])\n",
    "plt.title(\"Average Confusion Matrix on Test Data (Neural Network Model)\")\n",
    "plt.show()\n"
   ]
  }
 ],
 "metadata": {
  "kernelspec": {
   "display_name": "Python 3",
   "language": "python",
   "name": "python3"
  },
  "language_info": {
   "codemirror_mode": {
    "name": "ipython",
    "version": 3
   },
   "file_extension": ".py",
   "mimetype": "text/x-python",
   "name": "python",
   "nbconvert_exporter": "python",
   "pygments_lexer": "ipython3",
   "version": "3.11.5"
  },
  "orig_nbformat": 4
 },
 "nbformat": 4,
 "nbformat_minor": 2
}
