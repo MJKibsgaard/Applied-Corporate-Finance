{
 "cells": [
  {
   "cell_type": "code",
   "execution_count": null,
   "metadata": {},
   "outputs": [],
   "source": [
    "import pandas as pd\n",
    "import yfinance as yf\n",
    "\n",
    "# Fetch the list of S&P 500 companies from Wikipedia\n",
    "sp500 = pd.read_html('https://en.wikipedia.org/wiki/List_of_S%26P_500_companies')\n",
    "sp500_list = sp500[0]['Symbol'].tolist()\n",
    "\n",
    "# Fetch data in bulk for all S&P 500 companies\n",
    "data = yf.download(sp500_list, period=\"1d\", group_by='ticker')\n",
    "\n",
    "# Extract market cap data for each ticker\n",
    "market_caps = {}\n",
    "for ticker in sp500_list:\n",
    "    try:\n",
    "        stock = yf.Ticker(ticker)\n",
    "        market_caps[ticker] = stock.info['marketCap']\n",
    "    except:\n",
    "        print(f\"Couldn't fetch data for {ticker}\")\n",
    "        continue\n",
    "\n",
    "# Sort tickers by market cap\n",
    "sorted_tickers = sorted(market_caps, key=market_caps.get, reverse=True)\n",
    "\n",
    "# Extract top 100 tickers\n",
    "top_100_tickers = sorted_tickers[:100]\n",
    "\n",
    "# Print them\n",
    "print(top_100_tickers)\n"
   ]
  },
  {
   "cell_type": "code",
   "execution_count": 1,
   "metadata": {},
   "outputs": [
    {
     "name": "stdout",
     "output_type": "stream",
     "text": [
      "[*********************100%%**********************]  503 of 503 completed"
     ]
    },
    {
     "name": "stderr",
     "output_type": "stream",
     "text": [
      "\n",
      "2 Failed downloads:\n",
      "['BF.B']: Exception(\"%ticker%: Period '1d' is invalid, must be one of ['1mo', '3mo', '6mo', 'ytd', '1y', '2y', '5y', '10y', 'max']\")\n",
      "['BRK.B']: Exception('%ticker%: No data found, symbol may be delisted')\n"
     ]
    },
    {
     "name": "stdout",
     "output_type": "stream",
     "text": [
      "\n",
      "['TSLA', 'AAPL', 'AMZN', 'GOOGL', 'AMD', 'GOOG', 'XOM', 'LLY', 'IBM', 'BAC', 'ADBE', 'HES', 'COST', 'ALGN', 'F', 'DIS', 'ANET', 'MO', 'AMT', 'HD', 'HON', 'ABBV', 'GE', 'ACN', 'ENPH', 'COP', 'AMAT', 'FDX', 'DHR', 'EW', 'GM', 'ABT', 'T', 'AMGN', 'ABNB', 'GS', 'HSY', 'ADP', 'ADI', 'DXCM', 'DG', 'AXP', 'EQIX', 'FI', 'GIS', 'AAL', 'CSX', 'FANG', 'DE', 'CVS', 'DLR', 'EMR', 'ADSK', 'GD', 'HAS', 'AZO', 'GILD', 'HUM', 'CCI', 'FCX', 'HCA', 'MMM', 'AON', 'HAL', 'ETN', 'BKR', 'APH', 'DAL', 'HLT', 'AMP', 'IDXX', 'CTRA', 'ALB', 'FTNT', 'EQT', 'ELV', 'EOG', 'DOW', 'ITW', 'D', 'AJG', 'EXC', 'EXPE', 'DUK', 'DLTR', 'FICO', 'DVN', 'GPN', 'EG', 'ETSY', 'AEP', 'DHI', 'HPQ', 'ADM', 'ALL', 'EBAY', 'AVB', 'EL', 'GEHC', 'IEX']\n"
     ]
    }
   ],
   "source": [
    "import pandas as pd\n",
    "import yfinance as yf\n",
    "\n",
    "# Fetch the list of S&P 500 companies from Wikipedia\n",
    "sp500 = pd.read_html('https://en.wikipedia.org/wiki/List_of_S%26P_500_companies')\n",
    "sp500_list = sp500[0]['Symbol'].tolist()\n",
    "\n",
    "# Fetch data in bulk for all S&P 500 companies\n",
    "data = yf.download(sp500_list, period=\"1d\", group_by='ticker')\n",
    "\n",
    "# Extract market cap data for each ticker\n",
    "market_caps = {}\n",
    "for ticker in sp500_list:\n",
    "    try:\n",
    "        # Market Cap can be calculated using the formula: Market Cap = Shares Outstanding * Current Share Price\n",
    "        market_caps[ticker] = data[ticker]['Close'].iloc[0] * data[ticker]['Volume'].iloc[0]\n",
    "    except:\n",
    "        print(f\"Couldn't fetch data or calculate market cap for {ticker}\")\n",
    "        continue\n",
    "\n",
    "# Sort tickers by market cap\n",
    "sorted_tickers = sorted(market_caps, key=market_caps.get, reverse=True)\n",
    "\n",
    "# Extract top 100 tickers\n",
    "top_100_tickers = sorted_tickers[:100]\n",
    "\n",
    "# Print them\n",
    "print(top_100_tickers)\n"
   ]
  }
 ],
 "metadata": {
  "kernelspec": {
   "display_name": "Python 3",
   "language": "python",
   "name": "python3"
  },
  "language_info": {
   "codemirror_mode": {
    "name": "ipython",
    "version": 3
   },
   "file_extension": ".py",
   "mimetype": "text/x-python",
   "name": "python",
   "nbconvert_exporter": "python",
   "pygments_lexer": "ipython3",
   "version": "3.11.5"
  },
  "orig_nbformat": 4
 },
 "nbformat": 4,
 "nbformat_minor": 2
}
