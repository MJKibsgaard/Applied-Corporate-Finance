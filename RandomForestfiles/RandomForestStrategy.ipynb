{
 "cells": [
  {
   "cell_type": "markdown",
   "metadata": {},
   "source": [
    "In this first part, we install import all the packages used"
   ]
  },
  {
   "cell_type": "code",
   "execution_count": 1,
   "metadata": {},
   "outputs": [],
   "source": [
    "#Packages\n",
    "import yfinance as yf\n",
    "import numpy as np\n",
    "import pandas as pd\n",
    "import matplotlib.pyplot as plt\n",
    "\n",
    "#Subpackages\n",
    "from tqdm import tqdm\n",
    "from sklearn.ensemble import RandomForestRegressor\n",
    "from sklearn.metrics import mean_squared_error\n",
    "from sklearn.model_selection import GridSearchCV\n",
    "from sklearn.model_selection import RandomizedSearchCV\n",
    "from sklearn.model_selection import train_test_split\n",
    "from sklearn.ensemble import RandomForestClassifier\n",
    "from sklearn.metrics import accuracy_score, classification_report\n",
    "\n",
    "\n",
    "#ImportFunctions\n",
    "from Functions import fetch_data\n",
    "from Functions import moving_average\n",
    "from Functions import rsi\n",
    "from Functions import macd\n",
    "from Functions import lagged_return\n",
    "from Functions import bollinger_bands\n",
    "from Functions import pe_ratio\n",
    "from Functions import daily_returns\n"
   ]
  },
  {
   "cell_type": "markdown",
   "metadata": {},
   "source": [
    "Next, we import some stock data"
   ]
  },
  {
   "cell_type": "code",
   "execution_count": 2,
   "metadata": {},
   "outputs": [],
   "source": [
    "tickers = [\"AAPL\", \"META\"]\n",
    "start_date = \"2019-01-01\"\n",
    "end_date = \"2023-01-01\"\n",
    "\n",
    "stock_data = fetch_data(tickers, start_date, end_date)\n"
   ]
  },
  {
   "cell_type": "markdown",
   "metadata": {},
   "source": [
    "Now we calculate the technical indicators for each stock"
   ]
  },
  {
   "cell_type": "code",
   "execution_count": 3,
   "metadata": {},
   "outputs": [],
   "source": [
    "# For each stock's data, compute the technical indicators and add them as new columns to the DataFrame\n",
    "\n",
    "for ticker, data in stock_data.items():\n",
    "    # Backup the 'Close' prices\n",
    "    close_prices = data['Close'].copy()\n",
    "    \n",
    "    # 20-day Moving Average\n",
    "    data['MA20'] = moving_average(data)\n",
    "    \n",
    "    # RSI\n",
    "    data['RSI'] = rsi(data)\n",
    "    \n",
    "    # MACD\n",
    "    data['MACD'], data['Signal_Line'] = macd(data)\n",
    "    \n",
    "    # 1, 2, and 3 Day Lagged Returns\n",
    "    data['Lagged_Return_1'] = lagged_return(data, 2)\n",
    "    data['Lagged_Return_2'] = lagged_return(data, 3)\n",
    "    data['Lagged_Return_3'] = lagged_return(data, 4)\n",
    "    \n",
    "    # Bollinger Bands\n",
    "    data['Upper_Bollinger'], data['Lower_Bollinger'] = bollinger_bands(data)\n",
    "    \n",
    "    # Restore 'Close' column\n",
    "    data['Close'] = close_prices\n",
    "\n",
    "    # Extract the 'Close' column\n",
    "    close_prices = data['Close']\n",
    "    \n",
    "    # Calculate daily returns for all available days\n",
    "    daily_returns = close_prices.pct_change().dropna()\n",
    "\n",
    "    \n",
    "\n"
   ]
  },
  {
   "cell_type": "markdown",
   "metadata": {},
   "source": [
    "Now that we have all the technical indicators for each stock we make a new dataframe that contains the data for all the stocks. We also do some data cleaning like removing the NANs."
   ]
  },
  {
   "cell_type": "code",
   "execution_count": 4,
   "metadata": {},
   "outputs": [],
   "source": [
    "# Dictionary to store the split data for each stock\n",
    "all_stock_data = {}\n",
    "\n",
    "for ticker, data in stock_data.items():\n",
    "    data_clean = data.dropna()  # drop rows with NaN values\n",
    "\n",
    "    # Features: using technical indicators and lagged returns\n",
    "    X = data_clean[['RSI', 'MACD', 'Signal_Line', 'Lagged_Return_1', 'Lagged_Return_2', 'Lagged_Return_3', 'Upper_Bollinger', 'Lower_Bollinger']]\n",
    "\n",
    "    # Target: Direction of the next day's return (1 for positive, 0 for negative or non-positive)\n",
    "    y = (data_clean['Close'].pct_change().shift(-1) > 0).astype(int)\n",
    "\n",
    "    # Splitting the data: 70% train, 15% validation, 15% test\n",
    "    X_train, X_temp, y_train, y_temp = train_test_split(X, y, test_size=0.3, random_state=42, shuffle=False)\n",
    "    X_val, X_test, y_val, y_test = train_test_split(X_temp, y_temp, test_size=0.5, random_state=42, shuffle=False)\n",
    "    \n",
    "    # Store the data splits in the dictionary\n",
    "    all_stock_data[ticker] = {\n",
    "        'X_train': X_train,\n",
    "        'X_val': X_val,\n",
    "        'X_test': X_test,\n",
    "        'y_train': y_train,\n",
    "        'y_val': y_val,\n",
    "        'y_test': y_test\n",
    "    }\n",
    "\n",
    "# Now, `all_stock_data` contains the data splits for all stocks."
   ]
  },
  {
   "cell_type": "markdown",
   "metadata": {},
   "source": [
    "Now we actually make the classifier to predict the stock direction. We use a random forest model to determine this."
   ]
  },
  {
   "cell_type": "code",
   "execution_count": 5,
   "metadata": {},
   "outputs": [
    {
     "name": "stdout",
     "output_type": "stream",
     "text": [
      "Performance for AAPL:\n",
      "Accuracy: 0.4797\n",
      "              precision    recall  f1-score   support\n",
      "\n",
      "           0       0.49      0.74      0.59        74\n",
      "           1       0.46      0.22      0.29        74\n",
      "\n",
      "    accuracy                           0.48       148\n",
      "   macro avg       0.47      0.48      0.44       148\n",
      "weighted avg       0.47      0.48      0.44       148\n",
      "\n",
      "-------------------------------------------------\n",
      "Performance for META:\n",
      "Accuracy: 0.5068\n",
      "              precision    recall  f1-score   support\n",
      "\n",
      "           0       0.54      0.40      0.46        78\n",
      "           1       0.48      0.63      0.55        70\n",
      "\n",
      "    accuracy                           0.51       148\n",
      "   macro avg       0.51      0.51      0.50       148\n",
      "weighted avg       0.52      0.51      0.50       148\n",
      "\n",
      "-------------------------------------------------\n",
      "Average Validation Accuracy across all stocks: 0.4932\n"
     ]
    }
   ],
   "source": [
    "# Dictionary to store the trained models and their performances\n",
    "models = {}\n",
    "performances = {}\n",
    "\n",
    "# List to store all validation accuracy scores\n",
    "all_validation_accuracies = []\n",
    "\n",
    "for ticker in all_stock_data:\n",
    "    # Get data for the current stock\n",
    "    X_train = all_stock_data[ticker]['X_train']\n",
    "    y_train = all_stock_data[ticker]['y_train']\n",
    "    X_val = all_stock_data[ticker]['X_val']\n",
    "    y_val = all_stock_data[ticker]['y_val']\n",
    "\n",
    "    # Initialize and train the Random Forest Classifier\n",
    "    clf = RandomForestClassifier(n_estimators=100, random_state=42)\n",
    "    clf.fit(X_train, y_train)\n",
    "\n",
    "    # Validate the model\n",
    "    y_val_pred = clf.predict(X_val)\n",
    "    accuracy = accuracy_score(y_val, y_val_pred)\n",
    "    \n",
    "    # Add the accuracy to the list\n",
    "    all_validation_accuracies.append(accuracy)\n",
    "\n",
    "    # Store the trained model and its performance\n",
    "    models[ticker] = clf\n",
    "    performances[ticker] = {\n",
    "        'Accuracy': accuracy,\n",
    "        'Classification Report': classification_report(y_val, y_val_pred)\n",
    "    }\n",
    "\n",
    "    # Print out the performance for the current stock\n",
    "    print(f\"Performance for {ticker}:\")\n",
    "    print(f\"Accuracy: {accuracy:.4f}\")\n",
    "    print(classification_report(y_val, y_val_pred))\n",
    "    print(\"-------------------------------------------------\")\n",
    "\n",
    "# Calculate and print the average validation accuracy\n",
    "average_validation_accuracy = sum(all_validation_accuracies) / len(all_validation_accuracies)\n",
    "print(f\"Average Validation Accuracy across all stocks: {average_validation_accuracy:.4f}\")\n"
   ]
  },
  {
   "cell_type": "markdown",
   "metadata": {},
   "source": [
    "After we have trained the model on the validation set, we will now test on an out of sample test. In other words, we test on new data."
   ]
  },
  {
   "cell_type": "code",
   "execution_count": 6,
   "metadata": {},
   "outputs": [
    {
     "name": "stdout",
     "output_type": "stream",
     "text": [
      "Test Performance for AAPL:\n",
      "Test Accuracy: 0.5235\n",
      "              precision    recall  f1-score   support\n",
      "\n",
      "           0       0.54      0.72      0.62        79\n",
      "           1       0.49      0.30      0.37        70\n",
      "\n",
      "    accuracy                           0.52       149\n",
      "   macro avg       0.51      0.51      0.49       149\n",
      "weighted avg       0.51      0.52      0.50       149\n",
      "\n",
      "-------------------------------------------------\n",
      "Test Performance for META:\n",
      "Test Accuracy: 0.4832\n",
      "              precision    recall  f1-score   support\n",
      "\n",
      "           0       0.50      0.14      0.22        77\n",
      "           1       0.48      0.85      0.61        72\n",
      "\n",
      "    accuracy                           0.48       149\n",
      "   macro avg       0.49      0.50      0.42       149\n",
      "weighted avg       0.49      0.48      0.41       149\n",
      "\n",
      "-------------------------------------------------\n",
      "Average Test Accuracy across all stocks: 0.5034\n"
     ]
    }
   ],
   "source": [
    "# Dictionary to store test set performances\n",
    "test_performances = {}\n",
    "\n",
    "# List to store all accuracy scores\n",
    "all_accuracies = []\n",
    "\n",
    "for ticker in all_stock_data:\n",
    "    # Get the test data for the current stock\n",
    "    X_test = all_stock_data[ticker]['X_test']\n",
    "    y_test = all_stock_data[ticker]['y_test']\n",
    "\n",
    "    # Predict using the trained model\n",
    "    y_test_pred = models[ticker].predict(X_test)\n",
    "    test_accuracy = accuracy_score(y_test, y_test_pred)\n",
    "\n",
    "    # Store the performance on the test set\n",
    "    test_performances[ticker] = {\n",
    "        'Test Accuracy': test_accuracy,\n",
    "        'Test Classification Report': classification_report(y_test, y_test_pred)\n",
    "    }\n",
    "\n",
    "    # Add the accuracy to the list\n",
    "    all_accuracies.append(test_accuracy)\n",
    "\n",
    "    # Print out the test performance for the current stock\n",
    "    print(f\"Test Performance for {ticker}:\")\n",
    "    print(f\"Test Accuracy: {test_accuracy:.4f}\")\n",
    "    print(classification_report(y_test, y_test_pred))\n",
    "    print(\"-------------------------------------------------\")\n",
    "\n",
    "# Calculate and print the average accuracy\n",
    "average_accuracy = sum(all_accuracies) / len(all_accuracies)\n",
    "print(f\"Average Test Accuracy across all stocks: {average_accuracy:.4f}\")\n"
   ]
  },
  {
   "cell_type": "markdown",
   "metadata": {},
   "source": [
    "Now that we have tested the model we want to see if we can improve the accuracy by tuning the hyperparameters. We basically run the same model as before, but this time we tune the model to find the best hyperparameters. We do this to see if we can improve the performance of the model."
   ]
  },
  {
   "cell_type": "code",
   "execution_count": 7,
   "metadata": {},
   "outputs": [
    {
     "name": "stdout",
     "output_type": "stream",
     "text": [
      "Tuned Performance for AAPL:\n",
      "Accuracy: 0.5068\n",
      "-------------------------------------------------\n",
      "Tuned Performance for META:\n",
      "Accuracy: 0.4392\n",
      "-------------------------------------------------\n",
      "\n",
      "Average Tuned Validation Accuracy across all stocks: 0.4730\n"
     ]
    }
   ],
   "source": [
    "# Dictionary to store the tuned models and their performances\n",
    "tuned_models = {}\n",
    "tuned_performances = {}\n",
    "\n",
    "# Distributions for hyperparameters\n",
    "param_dist = {\n",
    "    'n_estimators': [50, 100, 150, 200],\n",
    "    'max_depth': [None, 10, 20, 30, 40],\n",
    "    'min_samples_split': [2, 5, 10],\n",
    "    'min_samples_leaf': [1, 2, 4]\n",
    "}\n",
    "\n",
    "# List to store all validation accuracy scores\n",
    "all_validation_accuracies = []\n",
    "\n",
    "for ticker, stock_data in all_stock_data.items():\n",
    "    # Get data for the current stock\n",
    "    X_train = stock_data['X_train']\n",
    "    y_train = stock_data['y_train']\n",
    "    X_val = stock_data['X_val']\n",
    "    y_val = stock_data['y_val']\n",
    "\n",
    "    # Initialize RandomForest and RandomizedSearchCV\n",
    "    clf = RandomForestClassifier(random_state=42)\n",
    "    random_search = RandomizedSearchCV(clf, param_distributions=param_dist, n_iter=100, cv=5, scoring='accuracy', random_state=42, n_jobs=-1)\n",
    "    random_search.fit(X_train, y_train)\n",
    "\n",
    "    # Check if RandomizedSearchCV found a best estimator\n",
    "    if hasattr(random_search, 'best_estimator_'):\n",
    "        best_clf = random_search.best_estimator_\n",
    "\n",
    "        # Validate the model\n",
    "        y_val_pred = best_clf.predict(X_val)\n",
    "        accuracy = accuracy_score(y_val, y_val_pred)\n",
    "\n",
    "        # Add the accuracy to the list\n",
    "        all_validation_accuracies.append(accuracy)\n",
    "\n",
    "        # Store the tuned model and its performance\n",
    "        tuned_models[ticker] = best_clf\n",
    "        tuned_performances[ticker] = {\n",
    "            'Accuracy': accuracy,\n",
    "            'Classification Report': classification_report(y_val, y_val_pred)\n",
    "        }\n",
    "\n",
    "        # Print out the tuned performance for the current stock\n",
    "        print(f\"Tuned Performance for {ticker}:\")\n",
    "        print(f\"Accuracy: {accuracy:.4f}\")\n",
    "        print(\"-------------------------------------------------\")\n",
    "    else:\n",
    "        print(f\"RandomizedSearchCV did not complete successfully for {ticker}. Skipping this stock.\")\n",
    "\n",
    "# Calculate and print the average validation accuracy\n",
    "average_validation_accuracy = sum(all_validation_accuracies) / len(all_validation_accuracies)\n",
    "print(f\"\\nAverage Tuned Validation Accuracy across all stocks: {average_validation_accuracy:.4f}\")\n"
   ]
  },
  {
   "cell_type": "markdown",
   "metadata": {},
   "source": [
    "Now that we have tuned the model on the training and validation data, we want to see how well it performs on an out of sample dataset. We use the tuned models on test data:"
   ]
  },
  {
   "cell_type": "code",
   "execution_count": 8,
   "metadata": {},
   "outputs": [
    {
     "name": "stdout",
     "output_type": "stream",
     "text": [
      "Tuned Test Performance for AAPL:\n",
      "Test Accuracy: 0.5570\n",
      "              precision    recall  f1-score   support\n",
      "\n",
      "           0       0.57      0.66      0.61        79\n",
      "           1       0.53      0.44      0.48        70\n",
      "\n",
      "    accuracy                           0.56       149\n",
      "   macro avg       0.55      0.55      0.55       149\n",
      "weighted avg       0.55      0.56      0.55       149\n",
      "\n",
      "-------------------------------------------------\n",
      "Tuned Test Performance for META:\n",
      "Test Accuracy: 0.4966\n",
      "              precision    recall  f1-score   support\n",
      "\n",
      "           0       0.57      0.10      0.18        77\n",
      "           1       0.49      0.92      0.64        72\n",
      "\n",
      "    accuracy                           0.50       149\n",
      "   macro avg       0.53      0.51      0.41       149\n",
      "weighted avg       0.53      0.50      0.40       149\n",
      "\n",
      "-------------------------------------------------\n",
      "\n",
      "Average Tuned Test Accuracy across all stocks: 0.5268\n"
     ]
    }
   ],
   "source": [
    "# Dictionary to store test set performances for the tuned models\n",
    "tuned_test_performances = {}\n",
    "\n",
    "# List to store all test accuracy scores for the tuned models\n",
    "all_tuned_test_accuracies = []\n",
    "\n",
    "for ticker, stock_data in all_stock_data.items():\n",
    "    # Get the test data for the current stock\n",
    "    X_test = stock_data['X_test']\n",
    "    y_test = stock_data['y_test']\n",
    "\n",
    "    # Predict using the tuned model\n",
    "    y_test_pred = tuned_models[ticker].predict(X_test)\n",
    "    test_accuracy = accuracy_score(y_test, y_test_pred)\n",
    "\n",
    "    # Add the test accuracy to the list\n",
    "    all_tuned_test_accuracies.append(test_accuracy)\n",
    "\n",
    "    # Store the performance on the test set for the tuned model\n",
    "    tuned_test_performances[ticker] = {\n",
    "        'Test Accuracy': test_accuracy,\n",
    "        'Test Classification Report': classification_report(y_test, y_test_pred)\n",
    "    }\n",
    "\n",
    "    # Print out the test performance for the current stock\n",
    "    print(f\"Tuned Test Performance for {ticker}:\")\n",
    "    print(f\"Test Accuracy: {test_accuracy:.4f}\")\n",
    "    print(classification_report(y_test, y_test_pred))\n",
    "    print(\"-------------------------------------------------\")\n",
    "\n",
    "# Calculate and print the average test accuracy for the tuned models\n",
    "average_tuned_test_accuracy = sum(all_tuned_test_accuracies) / len(all_tuned_test_accuracies)\n",
    "print(f\"\\nAverage Tuned Test Accuracy across all stocks: {average_tuned_test_accuracy:.4f}\")\n"
   ]
  },
  {
   "cell_type": "markdown",
   "metadata": {},
   "source": [
    "Now that we have done the gridsearch we can evaluate the two models based on their accuracy. We make a table of the results from the validation test and the test data. "
   ]
  },
  {
   "cell_type": "code",
   "execution_count": 9,
   "metadata": {},
   "outputs": [
    {
     "name": "stdout",
     "output_type": "stream",
     "text": [
      "       Model  Validation Accuracy  Test Accuracy\n",
      "0  Non-Tuned             0.493243       0.503356\n",
      "1      Tuned             0.472973       0.526846\n"
     ]
    }
   ],
   "source": [
    "# Extract average accuracies for non-tuned model\n",
    "non_tuned_validation_accuracy = sum([perf['Accuracy'] for perf in performances.values()]) / len(performances)\n",
    "non_tuned_test_accuracy = sum([perf['Test Accuracy'] for perf in test_performances.values()]) / len(test_performances)\n",
    "\n",
    "# Extract average accuracies for tuned model\n",
    "tuned_validation_accuracy = sum([perf['Accuracy'] for perf in tuned_performances.values()]) / len(tuned_performances)\n",
    "tuned_test_accuracy = sum([perf['Test Accuracy'] for perf in tuned_test_performances.values()]) / len(tuned_test_performances)\n",
    "\n",
    "# Create a DataFrame\n",
    "results = pd.DataFrame({\n",
    "    'Model': ['Non-Tuned', 'Tuned'],\n",
    "    'Validation Accuracy': [non_tuned_validation_accuracy, tuned_validation_accuracy],\n",
    "    'Test Accuracy': [non_tuned_test_accuracy, tuned_test_accuracy]\n",
    "})\n",
    "\n",
    "# Display the results\n",
    "print(results)\n"
   ]
  },
  {
   "cell_type": "markdown",
   "metadata": {},
   "source": [
    "Now we start backtesting the models. We make a list that includes the predicted return and the actual return."
   ]
  },
  {
   "cell_type": "code",
   "execution_count": 10,
   "metadata": {},
   "outputs": [],
   "source": [
    "ReturnsAndPredictionStocks = {}\n",
    "ReturnsAndPredictionsValueNontuned = []\n",
    "ReturnsAndPredictionsValueTuned = []\n",
    "Daily_return_Value = []\n",
    "Date = []\n",
    "\n",
    "for ticker, stock_data in all_stock_data.items():\n",
    "    \n",
    "    # Get the test data for the current stock\n",
    "    X_test = stock_data['X_test']\n",
    "    y_test = stock_data['y_test']\n",
    "    Returndata = data['Close']\n",
    "\n",
    "    # Calculate the daily returns\n",
    "    daily_returns = Returndata.pct_change()\n",
    "    \n",
    "    # Drop the first NaN value (since there is no return for the first day)\n",
    "    daily_returns = daily_returns.dropna()\n",
    "\n",
    "\n",
    "    # Predict using the two models\n",
    "    y_test_pred_tuned = tuned_models[ticker].predict(X_test)\n",
    "    y_test_pred_nontuned = models[ticker].predict(X_test)\n",
    "\n",
    "    # Add the daily returns to a list\n",
    "    Daily_return_Value.append(daily_returns.tolist())\n",
    "    \n",
    "    # Add the results to a list and adding date\n",
    "    ReturnsAndPredictionsValueNontuned.append(y_test_pred_nontuned)\n",
    "    ReturnsAndPredictionsValueTuned.append(y_test_pred_tuned)\n",
    "\n",
    "    # Store the prediction and test for the model\n",
    "    ReturnsAndPredictionStocks[ticker] = {\n",
    "        'daily return': daily_returns,\n",
    "        'prediction for nontuned model': y_test_pred_nontuned,\n",
    "        'prediction for tuned model': y_test_pred_tuned\n",
    "    }\n"
   ]
  },
  {
   "cell_type": "code",
   "execution_count": 11,
   "metadata": {},
   "outputs": [
    {
     "name": "stdout",
     "output_type": "stream",
     "text": [
      "Data for AAPL:\n",
      "                    Date daily return Nontuned model Tuned model\n",
      "0    2022-05-31 00:00:00    -0.007636              1           0\n",
      "1    2022-06-01 00:00:00    -0.025821              1           0\n",
      "2    2022-06-02 00:00:00     0.054177              0           0\n",
      "3    2022-06-03 00:00:00    -0.040632              0           0\n",
      "4    2022-06-06 00:00:00     0.018188              0           0\n",
      "..                   ...          ...            ...         ...\n",
      "144  2022-12-23 00:00:00     0.007855              0           0\n",
      "145  2022-12-27 00:00:00    -0.009827              1           1\n",
      "146  2022-12-28 00:00:00     -0.01078              1           1\n",
      "147  2022-12-29 00:00:00     0.040131              1           1\n",
      "148  2022-12-30 00:00:00     0.000665              0           0\n",
      "\n",
      "[149 rows x 4 columns]\n",
      "Data for META:\n",
      "                    Date daily return Nontuned model Tuned model\n",
      "0    2022-05-31 00:00:00    -0.007636              1           1\n",
      "1    2022-06-01 00:00:00    -0.025821              0           1\n",
      "2    2022-06-02 00:00:00     0.054177              0           1\n",
      "3    2022-06-03 00:00:00    -0.040632              0           1\n",
      "4    2022-06-06 00:00:00     0.018188              1           1\n",
      "..                   ...          ...            ...         ...\n",
      "144  2022-12-23 00:00:00     0.007855              1           1\n",
      "145  2022-12-27 00:00:00    -0.009827              0           1\n",
      "146  2022-12-28 00:00:00     -0.01078              1           1\n",
      "147  2022-12-29 00:00:00     0.040131              1           1\n",
      "148  2022-12-30 00:00:00     0.000665              1           1\n",
      "\n",
      "[149 rows x 4 columns]\n"
     ]
    }
   ],
   "source": [
    "for ticker, stock_data in all_stock_data.items():\n",
    "    \n",
    "    # Create an empty DataFrame for each stock\n",
    "    df = pd.DataFrame(columns=['Date', 'daily return', 'Nontuned model', 'Tuned model'])\n",
    "\n",
    "    # Get the test data for the current stock\n",
    "    X_test = stock_data['X_test']\n",
    "    y_test = stock_data['y_test']\n",
    "    Returndata = data['Close']\n",
    "\n",
    "    # Calculate the daily returns for the current stock\n",
    "    daily_returns = Returndata.pct_change()\n",
    "    \n",
    "    # Align daily_returns with X_test and y_test\n",
    "    daily_returns = daily_returns.loc[X_test.index]\n",
    "\n",
    "    # Predict using the two models\n",
    "    y_test_pred_tuned = tuned_models[ticker].predict(X_test)\n",
    "    y_test_pred_nontuned = models[ticker].predict(X_test)\n",
    "\n",
    "    # Create a DataFrame for the current stock\n",
    "    ResultsReturnAndPrediction = pd.DataFrame({\n",
    "        'Date': X_test.index,\n",
    "        'daily return': daily_returns.tolist(),\n",
    "        'Nontuned model': y_test_pred_nontuned.tolist(),\n",
    "        'Tuned model': y_test_pred_tuned.tolist()\n",
    "    })\n",
    "\n",
    "    # Append the stock DataFrame to the main DataFrame\n",
    "    df = pd.concat([df, ResultsReturnAndPrediction], ignore_index=True)\n",
    "\n",
    "    # Drop rows with NaN values in any column\n",
    "    df = df.dropna()\n",
    "\n",
    "    # Print the resulting DataFrame for each stock\n",
    "    print(f\"Data for {ticker}:\")\n",
    "    print(df)\n"
   ]
  },
  {
   "cell_type": "markdown",
   "metadata": {},
   "source": [
    "We perform the backtest and plot the results"
   ]
  },
  {
   "cell_type": "code",
   "execution_count": 12,
   "metadata": {},
   "outputs": [
    {
     "data": {
      "image/png": "[encoded data removed]",
      "text/plain": [
       "<Figure size 432x288 with 1 Axes>"
      ]
     },
     "metadata": {
      "needs_background": "light"
     },
     "output_type": "display_data"
    }
   ],
   "source": [
    "# DataFrames to store cumulative returns time series for all stocks\n",
    "df_cumulative_returns_tuned = pd.DataFrame(index=X_test.index)  \n",
    "df_cumulative_returns_nontuned = pd.DataFrame(index=X_test.index)\n",
    "df_daily_returns_all_stocks = pd.DataFrame(index=X_test.index)  # DataFrame to store daily returns for all stocks\n",
    "\n",
    "for ticker, stock_data in all_stock_data.items():\n",
    "    \n",
    "    # Extract the test data and the returns data\n",
    "    X_test = stock_data['X_test']\n",
    "    y_test = stock_data['y_test']\n",
    "    Returndata = data['Close']\n",
    "    daily_returns = Returndata.pct_change().loc[X_test.index]\n",
    "    df_daily_returns_all_stocks[ticker] = daily_returns  # Store daily returns for each stock\n",
    "\n",
    "    # Predict using the two models\n",
    "    y_test_pred_tuned = tuned_models[ticker].predict(X_test)\n",
    "    y_test_pred_nontuned = models[ticker].predict(X_test)\n",
    "    \n",
    "    # Calculate strategy daily returns\n",
    "    strategy_returns_tuned = daily_returns * (2 * y_test_pred_tuned - 1)\n",
    "    strategy_returns_nontuned = daily_returns * (2 * y_test_pred_nontuned - 1)\n",
    "\n",
    "    # Set the first value of strategy returns to 0 to ensure cumulative product starts at 1\n",
    "    strategy_returns_tuned.iloc[0] = 0\n",
    "    strategy_returns_nontuned.iloc[0] = 0\n",
    "\n",
    "    # Calculate cumulative returns time series\n",
    "    df_cumulative_returns_tuned[ticker] = (1 + strategy_returns_tuned).cumprod()\n",
    "    df_cumulative_returns_nontuned[ticker] = (1 + strategy_returns_nontuned).cumprod()\n",
    "\n",
    "# Calculate average daily returns across all stocks\n",
    "average_daily_returns = df_daily_returns_all_stocks.mean(axis=1)\n",
    "\n",
    "# Calculate cumulative returns for holding strategy\n",
    "cumulative_returns_holding = (1 + average_daily_returns).cumprod()\n",
    "\n",
    "# Calculate average cumulative returns for each date\n",
    "avg_cumulative_returns_tuned = df_cumulative_returns_tuned.mean(axis=1)\n",
    "avg_cumulative_returns_nontuned = df_cumulative_returns_nontuned.mean(axis=1)\n",
    "\n",
    "# Plotting the results\n",
    "plt.plot(avg_cumulative_returns_tuned, label='Tuned Model', color='blue')\n",
    "plt.plot(avg_cumulative_returns_nontuned, label='Non-Tuned Model', color='green')\n",
    "plt.plot(cumulative_returns_holding, label='Holding Strategy', color='red')  # Add this line\n",
    "plt.xlabel('Date')\n",
    "plt.ylabel('Average Cumulative Return')\n",
    "plt.title('Average Cumulative Return by Model Over Time')\n",
    "plt.legend()\n",
    "plt.grid(True)\n",
    "plt.show()\n"
   ]
  },
  {
   "cell_type": "code",
   "execution_count": 13,
   "metadata": {},
   "outputs": [
    {
     "data": {
      "text/plain": [
       "<Figure size 864x576 with 0 Axes>"
      ]
     },
     "metadata": {},
     "output_type": "display_data"
    },
    {
     "data": {
      "image/png": "[encoded data removed]",
      "text/plain": [
       "<Figure size 432x288 with 1 Axes>"
      ]
     },
     "metadata": {
      "needs_background": "light"
     },
     "output_type": "display_data"
    }
   ],
   "source": [
    "import pandas as pd\n",
    "import matplotlib.pyplot as plt\n",
    "\n",
    "# Initialize a zero-filled array with the same shape as feature_importances to store cumulative importances\n",
    "cumulative_importances = np.zeros_like(models[list(models.keys())[0]].feature_importances_)\n",
    "\n",
    "# Loop through each stock ticker in the models dictionary\n",
    "for ticker, clf in models.items():\n",
    "\n",
    "    # Add the feature importances to the cumulative_importances array\n",
    "    cumulative_importances += clf.feature_importances_\n",
    "\n",
    "# Calculate the average feature importances\n",
    "average_importances = cumulative_importances / len(models)\n",
    "\n",
    "# Get the names of the features from the training data for any stock (since they share the same features)\n",
    "feature_names = all_stock_data[list(all_stock_data.keys())[0]]['X_train'].columns\n",
    "\n",
    "# Create a DataFrame to hold the feature names and their average importances\n",
    "df_average_importances = pd.DataFrame({\n",
    "    'Feature': feature_names,\n",
    "    'Average Importance': average_importances\n",
    "})\n",
    "\n",
    "# Sort the DataFrame by average importance in descending order\n",
    "df_average_importances = df_average_importances.sort_values(by='Average Importance', ascending=False)\n",
    "\n",
    "# Plot the average feature importances\n",
    "plt.figure(figsize=(12, 8))\n",
    "df_average_importances.plot(kind='bar', x='Feature', y='Average Importance', legend=False, color='skyblue')\n",
    "plt.title(f'Average Feature Importances Across All Stocks')\n",
    "plt.ylabel('Average Importance')\n",
    "plt.xlabel('Feature')\n",
    "plt.xticks(rotation=45)\n",
    "plt.tight_layout()\n",
    "plt.show()\n"
   ]
  },
  {
   "cell_type": "markdown",
   "metadata": {},
   "source": [
    "In the plot above we have the most important features of the simple nontuned model."
   ]
  },
  {
   "cell_type": "code",
   "execution_count": 15,
   "metadata": {},
   "outputs": [
    {
     "data": {
      "text/plain": [
       "<Figure size 864x576 with 0 Axes>"
      ]
     },
     "metadata": {},
     "output_type": "display_data"
    },
    {
     "data": {
      "image/png": "[encoded data removed]",
      "text/plain": [
       "<Figure size 432x288 with 1 Axes>"
      ]
     },
     "metadata": {
      "needs_background": "light"
     },
     "output_type": "display_data"
    }
   ],
   "source": [
    "import pandas as pd\n",
    "import matplotlib.pyplot as plt\n",
    "\n",
    "# Initialize a zero-filled array with the same shape as feature_importances to store cumulative importances\n",
    "cumulative_importances = np.zeros_like(tuned_models[list(tuned_models.keys())[0]].feature_importances_)\n",
    "\n",
    "# Loop through each stock ticker in the tuned_models dictionary\n",
    "for ticker, best_clf in tuned_models.items():\n",
    "\n",
    "    # Add the feature importances to the cumulative_importances array\n",
    "    cumulative_importances += best_clf.feature_importances_\n",
    "\n",
    "# Calculate the average feature importances\n",
    "average_importances = cumulative_importances / len(tuned_models)\n",
    "\n",
    "# Get the names of the features from the training data for any stock (since they share the same features)\n",
    "feature_names = all_stock_data[list(all_stock_data.keys())[0]]['X_train'].columns\n",
    "\n",
    "# Create a DataFrame to hold the feature names and their average importances\n",
    "df_average_importances = pd.DataFrame({\n",
    "    'Feature': feature_names,\n",
    "    'Average Importance': average_importances\n",
    "})\n",
    "\n",
    "# Sort the DataFrame by average importance in descending order\n",
    "df_average_importances = df_average_importances.sort_values(by='Average Importance', ascending=False)\n",
    "\n",
    "# Plot the average feature importances\n",
    "plt.figure(figsize=(12, 8))\n",
    "df_average_importances.plot(kind='bar', x='Feature', y='Average Importance', legend=False, color='skyblue')\n",
    "plt.title(f'Average Feature Importances Across All Stocks (Tuned Model)')\n",
    "plt.ylabel('Average Importance')\n",
    "plt.xlabel('Feature')\n",
    "plt.xticks(rotation=45)\n",
    "plt.tight_layout()\n",
    "plt.show()\n"
   ]
  },
  {
   "cell_type": "markdown",
   "metadata": {},
   "source": [
    "Here we have the same plot for the tuned model. Next we try to make the confusing matrices for the models:"
   ]
  },
  {
   "cell_type": "code",
   "execution_count": 21,
   "metadata": {},
   "outputs": [
    {
     "data": {
      "image/png": "[encoded data removed]",
      "text/plain": [
       "<Figure size 576x432 with 2 Axes>"
      ]
     },
     "metadata": {
      "needs_background": "light"
     },
     "output_type": "display_data"
    }
   ],
   "source": [
    "import numpy as np\n",
    "import matplotlib.pyplot as plt\n",
    "from sklearn.metrics import confusion_matrix\n",
    "import seaborn as sns\n",
    "\n",
    "# Initialize a cumulative confusion matrix with zeros\n",
    "cumulative_cm = np.zeros((2, 2))\n",
    "\n",
    "# Loop through each stock ticker in the models dictionary\n",
    "for ticker, clf in models.items():\n",
    "    X_test = all_stock_data[ticker]['X_test']\n",
    "    y_test = all_stock_data[ticker]['y_test']\n",
    "    \n",
    "    # Get predictions on the test set\n",
    "    y_test_pred = clf.predict(X_test)\n",
    "    \n",
    "    # Add the confusion matrix for the current stock to the cumulative matrix\n",
    "    cumulative_cm += confusion_matrix(y_test, y_test_pred)\n",
    "\n",
    "# Calculate the average confusion matrix\n",
    "average_cm = cumulative_cm / len(models)\n",
    "\n",
    "# Plot the average confusion matrix using seaborn\n",
    "plt.figure(figsize=(8, 6))\n",
    "sns.heatmap(average_cm, annot=True, fmt=\".2f\", cmap=\"Blues\", xticklabels=['Predicted 0', 'Predicted 1'], yticklabels=['Actual 0', 'Actual 1'])\n",
    "plt.title(\"Average Confusion Matrix on Test Data (Non-Tuned Model)\")\n",
    "plt.show()\n"
   ]
  },
  {
   "cell_type": "markdown",
   "metadata": {},
   "source": [
    "We test how many times the model actually gets the correct answer and how many times it is wrong. Now we do the same thing for the tuned model:"
   ]
  },
  {
   "cell_type": "code",
   "execution_count": 20,
   "metadata": {},
   "outputs": [
    {
     "data": {
      "image/png": "[encoded data removed]",
      "text/plain": [
       "<Figure size 576x432 with 2 Axes>"
      ]
     },
     "metadata": {
      "needs_background": "light"
     },
     "output_type": "display_data"
    }
   ],
   "source": [
    "import numpy as np\n",
    "import matplotlib.pyplot as plt\n",
    "from sklearn.metrics import confusion_matrix\n",
    "import seaborn as sns\n",
    "\n",
    "# Initialize a cumulative confusion matrix with zeros\n",
    "cumulative_cm = np.zeros((2, 2))\n",
    "\n",
    "# Loop through each stock ticker in the tuned_models dictionary\n",
    "for ticker, best_clf in tuned_models.items():\n",
    "    X_test = all_stock_data[ticker]['X_test']\n",
    "    y_test = all_stock_data[ticker]['y_test']\n",
    "    \n",
    "    # Get predictions on the test set\n",
    "    y_test_pred = best_clf.predict(X_test)\n",
    "    \n",
    "    # Add the confusion matrix for the current stock to the cumulative matrix\n",
    "    cumulative_cm += confusion_matrix(y_test, y_test_pred)\n",
    "\n",
    "# Calculate the average confusion matrix\n",
    "average_cm = cumulative_cm / len(tuned_models)\n",
    "\n",
    "# Plot the average confusion matrix using seaborn\n",
    "plt.figure(figsize=(8, 6))\n",
    "sns.heatmap(average_cm, annot=True, fmt=\".2f\", cmap=\"Blues\", xticklabels=['Predicted 0', 'Predicted 1'], yticklabels=['Actual 0', 'Actual 1'])\n",
    "plt.title(\"Average Confusion Matrix on Test Data (Tuned Model)\")\n",
    "plt.show()\n"
   ]
  }
 ],
 "metadata": {
  "kernelspec": {
   "display_name": "Python 3",
   "language": "python",
   "name": "python3"
  },
  "language_info": {
   "codemirror_mode": {
    "name": "ipython",
    "version": 3
   },
   "file_extension": ".py",
   "mimetype": "text/x-python",
   "name": "python",
   "nbconvert_exporter": "python",
   "pygments_lexer": "ipython3",
   "version": "3.9.7"
  },
  "orig_nbformat": 4
 },
 "nbformat": 4,
 "nbformat_minor": 2
}
